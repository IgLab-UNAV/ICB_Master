{
 "cells": [
  {
   "cell_type": "code",
   "execution_count": 1,
   "metadata": {},
   "outputs": [],
   "source": [
    "# _ ____ ___ \n",
    "# | |___ |==]\n",
    "\n",
    "# Tumor Classification"
   ]
  },
  {
   "cell_type": "code",
   "execution_count": 2,
   "metadata": {},
   "outputs": [],
   "source": [
    "import pandas as pd\n",
    "import matplotlib.pyplot as plt\n",
    "import re\n",
    "import numpy as np\n",
    "from sklearn.svm import SVC\n",
    "from sklearn.decomposition import PCA"
   ]
  },
  {
   "cell_type": "code",
   "execution_count": 3,
   "metadata": {},
   "outputs": [],
   "source": [
    "gsva_mouse = pd.read_csv(\"./results/gsva_results.csv\", index_col=0).T\n",
    "pattern = re.compile(\"^[^_]+\")\n",
    "type_tumor = []\n",
    "for name in gsva_mouse.index:\n",
    "    type_tumor.append(re.findall(pattern, name)[0])\n",
    "type_tumor = pd.DataFrame(type_tumor)"
   ]
  },
  {
   "cell_type": "code",
   "execution_count": 4,
   "metadata": {},
   "outputs": [],
   "source": [
    "gsva_human = pd.read_csv(\"./results/gsva_human.csv\", index_col=0).T"
   ]
  },
  {
   "cell_type": "code",
   "execution_count": 5,
   "metadata": {},
   "outputs": [],
   "source": [
    "with open(\"./results/IL10_most_affected_human\", \"r\") as f:\n",
    "    gene_statistic = f.readlines()[0]"
   ]
  },
  {
   "cell_type": "code",
   "execution_count": 6,
   "metadata": {},
   "outputs": [],
   "source": [
    "human_RNAseq = pd.read_csv(\"./Data/RNAseq_expression_clean.csv\", index_col=0).T"
   ]
  },
  {
   "cell_type": "code",
   "execution_count": 7,
   "metadata": {},
   "outputs": [],
   "source": [
    "gene_statistic_values = human_RNAseq.loc[:,gene_statistic].to_list()"
   ]
  },
  {
   "cell_type": "code",
   "execution_count": 8,
   "metadata": {},
   "outputs": [],
   "source": [
    "is_pBIC = [1 if pBIC == \"pBIC\" else 0 for pBIC in type_tumor[0]]\n",
    "is_pBIC10 = [1 if pBIC == \"pBIC10\" else 0 for pBIC in type_tumor[0]]"
   ]
  },
  {
   "cell_type": "code",
   "execution_count": 9,
   "metadata": {},
   "outputs": [
    {
     "name": "stdout",
     "output_type": "stream",
     "text": [
      "[11.671, 13.835, 12.011, 13.353, 12.423, 13.237, 10.324, 10.473, 11.397, 5.471, 13.071, 9.028, 10.277, 10.954, 10.92, 12.038, 13.429, 8.697, 11.393, 12.137, 10.306, 13.834, 9.882, 6.84, 12.507, 13.795, 12.583, 11.333, 13.724, 12.299, 9.865, 12.469, 12.805, 13.768, 13.947, 10.881, 15.596, 12.114, 12.285, 13.103, 10.862, 13.625, 13.416, 10.831, 13.618, 12.557, 12.7, 11.91, 13.78, 11.355, 13.823, 9.716, 13.9, 13.811, 14.476, 9.884, 9.593, 12.402, 11.498, 13.923, 8.93, 13.94, 10.673, 11.789, 11.675, 9.766, 13.645, 10.888, 10.842, 6.528, 13.069, 12.581, 11.281, 12.846, 10.136, 13.493, 13.067, 13.774, 12.692, 11.318, 13.102, 12.517, 10.187, 13.127, 13.139, 10.452, 10.89, 13.857, 11.873, 13.551, 11.314, 9.966, 12.422, 10.855, 11.762, 9.523, 9.518, 11.967, 9.023, 11.814, 11.163, 12.889, 13.254, 13.676, 11.934, 6.743, 11.23, 10.887, 13.054, 12.453, 11.42, 13.712, 9.826, 9.278, 12.335, 11.577, 12.611, 10.179, 12.771, 13.917, 11.603, 12.948, 11.62, 13.832, 10.94, 13.168, 10.391, 12.442, 13.489, 11.227, 12.783, 12.644, 9.763, 12.389, 13.772, 13.513, 13.069, 11.101, 10.275, 13.323, 13.195, 11.697, 10.004, 12.725, 13.591, 11.8, 3.877, 11.266, 10.194, 13.275, 13.128, 12.163, 11.146, 11.16, 9.363, 5.769, 12.846, 7.788, 14.37, 10.09, 12.924, 10.53, 6.248, 12.808, 12.363, 14.272, 11.659, 13.725, 12.162, 8.965, 7.317, 8.506, 12.722, 11.366, 13.07, 12.723, 13.306, 9.941, 14.367, 9.982, 13.041, 10.921, 11.986, 13.823, 12.852, 12.282, 4.031, 10.388, 12.085, 13.358, 12.908, 12.744, 12.97, 13.458, 10.758, 10.908, 10.268, 16.518, 11.923, 12.763, 12.958, 11.484, 12.692, 16.004, 13.942, 8.726, 13.472, 13.07, 10.159, 9.543, 7.167, 13.558, 11.333, 12.555, 6.295, 12.677, 14.006, 12.231, 13.54, 12.02, 12.058, 11.337, 13.438, 11.978, 13.148, 7.914, 13.767, 12.471, 13.144, 12.631, 8.484, 14.293, 11.309, 10.436, 11.206, 14.154, 13.357, 12.792, 11.663, 12.346, 13.751, 13.484, 14.377, 13.12, 13.909, 11.838, 13.841, 10.932, 12.917, 13.133, 8.833, 14.621, 12.559, 13.237, 11.26, 13.413, 13.83, 14.677, 13.735, 11.794, 13.247, 13.739, 11.599, 10.572, 11.359, 11.136, 12.618, 11.357, 12.687, 9.671, 7.278, 11.173, 9.234, 12.444, 11.887, 11.007, 13.774, 11.419, 11.84, 13.339, 11.867, 9.231, 11.668, 9.006, 12.195, 10.209, 12.508, 10.233, 10.462, 9.758, 13.675, 11.12, 12.385, 13.266, 11.568, 14.764, 7.58, 13.026, 9.29, 14.715, 10.827, 12.838, 13.123, 13.041, 12.204, 13.288, 13.749, 12.204, 10.811, 8.31, 11.673, 11.05, 11.295, 14.019, 12.268, 10.748, 11.5, 14.466, 10.533, 5.837, 13.625, 12.383, 13.18, 11.728, 10.815, 8.487, 12.122, 10.473, 11.032, 9.064, 13.136, 14.476, 13.71, 11.038, 13.315, 11.944, 10.462, 12.154, 9.195, 14.751, 11.377, 10.177, 13.466, 15.008, 13.866, 11.227, 14.179, 15.082, 13.172, 11.917, 10.838, 10.696, 11.448, 10.98, 8.91, 11.627, 10.893, 4.018, 11.056, 11.491, 9.425, 10.33, 12.016, 11.955, 8.304, 9.579, 9.629, 7.242, 13.41, 12.213, 10.901, 9.379, 14.402, 7.703, 13.582, 10.062, 9.26, 12.948, 12.487, 12.769, 13.366, 12.175, 12.375, 11.642, 10.441, 7.056, 13.327, 14.074, 12.396, 12.25, 13.027, 13.865, 12.889, 12.387, 11.661, 11.484, 15.494, 13.682, 12.228, 11.775, 12.362, 11.099, 12.039, 9.098, 12.681, 13.427, 8.416, 11.551, 10.866, 10.081, 13.456, 11.248, 12.428, 10.674, 12.642, 11.226, 10.295, 14.209, 13.495, 11.552, 9.235, 9.793, 7.468, 4.529, 6.671, 12.205, 11.978, 11.216, 6.128, 11.932, 13.478, 12.292, 12.364, 12.622, 7.192, 11.761, 13.843, 10.549, 13.071, 12.367, 12.204, 14.703, 12.895, 13.345, 14.778, 11.569, 10.015, 13.124, 12.613, 9.486, 9.671, 14.405, 7.333, 13.839, 11.105, 11.577, 13.477, 12.892, 14.076, 13.626, 10.48, 11.583, 12.92, 8.033, 14.134, 13.993, 13.534, 14.201, 10.912, 10.537, 12.711, 12.834, 12.994, 11.593, 13.106, 12.074, 11.337, 11.517, 1.822, 5.856, 11.703]\n"
     ]
    }
   ],
   "source": [
    "print(gene_statistic_values)"
   ]
  },
  {
   "cell_type": "markdown",
   "metadata": {},
   "source": [
    "## Find optimal gamma"
   ]
  },
  {
   "cell_type": "code",
   "execution_count": 10,
   "metadata": {},
   "outputs": [
    {
     "name": "stdout",
     "output_type": "stream",
     "text": [
      "[0.1, 0.2, 0.3, 0.4, 0.5, 0.6, 0.7]\n",
      "[0.2, 0.3, 0.4, 0.5, 0.6, 0.7]\n"
     ]
    }
   ],
   "source": [
    "thresh_low = len(gsva_human) * 0.05\n",
    "thresh_high = len(gsva_human) * 0.35\n",
    "\n",
    "range_ = np.arange(0.1, 10.1, 0.1)\n",
    "\n",
    "pBIC_range = []\n",
    "pBIC10_range = []\n",
    "for a in range_:\n",
    "    svm_pBIC = SVC(gamma = round(a,1))\n",
    "    svm_pBIC10 = SVC(gamma = round(a,1))\n",
    "\n",
    "    svm_pBIC.fit(gsva_mouse, is_pBIC)\n",
    "    svm_pBIC10.fit(gsva_mouse, is_pBIC10)\n",
    "\n",
    "    sum_pBIC = sum(svm_pBIC.predict(gsva_human))\n",
    "    sum_pBIC10 = sum(svm_pBIC10.predict(gsva_human))\n",
    "\n",
    "    pBIC_condition = sum_pBIC >= thresh_low and sum_pBIC <= thresh_high\n",
    "    pBIC10_condition = sum_pBIC10 >= thresh_low and sum_pBIC10 <= thresh_high\n",
    "\n",
    "    if pBIC10_condition:\n",
    "        pBIC10_range.append(round(a,1))\n",
    "\n",
    "    if pBIC_condition:\n",
    "        pBIC_range.append(round(a,1))\n",
    "\n",
    "print(pBIC10_range)\n",
    "print(pBIC_range)"
   ]
  },
  {
   "cell_type": "code",
   "execution_count": 11,
   "metadata": {},
   "outputs": [
    {
     "name": "stdout",
     "output_type": "stream",
     "text": [
      "[1.381916060606061, 1.44682828282828, 1.6403091350397183, 1.8100021793275207, 1.8993488142292474, 1.7035521390374324, 1.7538427272727262, 1.4092028571428585, 1.4741150793650775, 1.6675959315765159, 1.8372889758643183, 1.926635610766045, 1.73083893557423, 1.7811295238095237, 1.4156683333333344, 1.4805805555555533, 1.6740614077669917, 1.8437544520547942, 1.9331010869565208, 1.7373044117647058, 1.7875949999999996, 1.286364761904764, 1.351276984126983, 1.5447578363384213, 1.7144508806262237, 1.8037975155279504, 1.6080008403361354, 1.6582914285714292, 1.5219933333333344, 1.5869055555555533, 1.7803864077669918, 1.9500794520547942, 2.039426086956521, 1.8436294117647058, 1.8939199999999996, 1.4982394871794877, 1.5631517094017067, 1.756632561613145, 1.9263256059009475, 2.015672240802674, 1.8198755656108592, 1.870166153846153]\n"
     ]
    }
   ],
   "source": [
    "combinations = [(round(a,1), round(b,1)) for a in pBIC_range for b in pBIC10_range]\n",
    "\n",
    "results = []\n",
    "\n",
    "for a,b in combinations:\n",
    "    svm_pBIC = SVC(gamma = a)\n",
    "    svm_pBIC10 = SVC(gamma = b)\n",
    "\n",
    "    svm_pBIC.fit(gsva_mouse, is_pBIC)\n",
    "    svm_pBIC10.fit(gsva_mouse, is_pBIC10)\n",
    "\n",
    "    pred_pBIC = svm_pBIC.predict(gsva_human)\n",
    "    pred_pBIC10 = svm_pBIC10.predict(gsva_human)\n",
    "\n",
    "    coincide = [x == 1 & y == 1 for x,y in zip(pred_pBIC, pred_pBIC10)]\n",
    "    pred_pBIC10 = [x + 1 if x == 1 else x for x in pred_pBIC10]\n",
    "    prediction = [x + y if not bool_ else 0 for x,y,bool_ in zip(pred_pBIC, pred_pBIC10, coincide)]\n",
    "\n",
    "    pred_pBIC = [x == 1 for x in prediction]\n",
    "    pred_pBIC10 = [x == 2 for x in prediction]\n",
    "\n",
    "    ccl19_pBIC = np.mean([x for idx, x in enumerate(gene_statistic_values) if pred_pBIC[idx]])\n",
    "    ccl19_pBIC10 = np.mean([x for idx, x in enumerate(gene_statistic_values) if pred_pBIC10[idx]])\n",
    "\n",
    "    results.append(ccl19_pBIC - ccl19_pBIC10)\n",
    "\n",
    "print(results)\n"
   ]
  },
  {
   "cell_type": "code",
   "execution_count": 18,
   "metadata": {},
   "outputs": [
    {
     "data": {
      "text/plain": [
       "30"
      ]
     },
     "execution_count": 18,
     "metadata": {},
     "output_type": "execute_result"
    }
   ],
   "source": [
    "prov = SVC(gamma=0.6)\n",
    "prov.fit(gsva_mouse,is_pBIC)\n",
    "sum(prov.predict(gsva_human))"
   ]
  },
  {
   "cell_type": "code",
   "execution_count": 16,
   "metadata": {},
   "outputs": [
    {
     "data": {
      "text/html": [
       "<div>\n",
       "<style scoped>\n",
       "    .dataframe tbody tr th:only-of-type {\n",
       "        vertical-align: middle;\n",
       "    }\n",
       "\n",
       "    .dataframe tbody tr th {\n",
       "        vertical-align: top;\n",
       "    }\n",
       "\n",
       "    .dataframe thead th {\n",
       "        text-align: right;\n",
       "    }\n",
       "</style>\n",
       "<table border=\"1\" class=\"dataframe\">\n",
       "  <thead>\n",
       "    <tr style=\"text-align: right;\">\n",
       "      <th></th>\n",
       "      <th>combinations</th>\n",
       "      <th>results</th>\n",
       "    </tr>\n",
       "  </thead>\n",
       "  <tbody>\n",
       "    <tr>\n",
       "      <th>32</th>\n",
       "      <td>(0.6, 0.5)</td>\n",
       "      <td>2.039426</td>\n",
       "    </tr>\n",
       "    <tr>\n",
       "      <th>39</th>\n",
       "      <td>(0.7, 0.5)</td>\n",
       "      <td>2.015672</td>\n",
       "    </tr>\n",
       "    <tr>\n",
       "      <th>31</th>\n",
       "      <td>(0.6, 0.4)</td>\n",
       "      <td>1.950079</td>\n",
       "    </tr>\n",
       "    <tr>\n",
       "      <th>18</th>\n",
       "      <td>(0.4, 0.5)</td>\n",
       "      <td>1.933101</td>\n",
       "    </tr>\n",
       "    <tr>\n",
       "      <th>11</th>\n",
       "      <td>(0.3, 0.5)</td>\n",
       "      <td>1.926636</td>\n",
       "    </tr>\n",
       "    <tr>\n",
       "      <th>38</th>\n",
       "      <td>(0.7, 0.4)</td>\n",
       "      <td>1.926326</td>\n",
       "    </tr>\n",
       "    <tr>\n",
       "      <th>4</th>\n",
       "      <td>(0.2, 0.5)</td>\n",
       "      <td>1.899349</td>\n",
       "    </tr>\n",
       "    <tr>\n",
       "      <th>34</th>\n",
       "      <td>(0.6, 0.7)</td>\n",
       "      <td>1.893920</td>\n",
       "    </tr>\n",
       "    <tr>\n",
       "      <th>41</th>\n",
       "      <td>(0.7, 0.7)</td>\n",
       "      <td>1.870166</td>\n",
       "    </tr>\n",
       "    <tr>\n",
       "      <th>17</th>\n",
       "      <td>(0.4, 0.4)</td>\n",
       "      <td>1.843754</td>\n",
       "    </tr>\n",
       "  </tbody>\n",
       "</table>\n",
       "</div>"
      ],
      "text/plain": [
       "   combinations   results\n",
       "32   (0.6, 0.5)  2.039426\n",
       "39   (0.7, 0.5)  2.015672\n",
       "31   (0.6, 0.4)  1.950079\n",
       "18   (0.4, 0.5)  1.933101\n",
       "11   (0.3, 0.5)  1.926636\n",
       "38   (0.7, 0.4)  1.926326\n",
       "4    (0.2, 0.5)  1.899349\n",
       "34   (0.6, 0.7)  1.893920\n",
       "41   (0.7, 0.7)  1.870166\n",
       "17   (0.4, 0.4)  1.843754"
      ]
     },
     "execution_count": 16,
     "metadata": {},
     "output_type": "execute_result"
    }
   ],
   "source": [
    "data = {\"combinations\": combinations, \"results\": results}\n",
    "prov = pd.DataFrame(data)\n",
    "prov.sort_values(\"results\", ascending=False).head(10)"
   ]
  },
  {
   "cell_type": "code",
   "execution_count": 17,
   "metadata": {},
   "outputs": [
    {
     "name": "stdout",
     "output_type": "stream",
     "text": [
      "2.039426086956521\n",
      "(0.6, 0.5)\n"
     ]
    }
   ],
   "source": [
    "print(max(results))\n",
    "values = combinations[results.index(max(results))]\n",
    "print(values)"
   ]
  },
  {
   "cell_type": "markdown",
   "metadata": {},
   "source": [
    "The value of gamma for pBIC is 0.6  \n",
    "The value of gamma for pBIC10 is 0.5"
   ]
  },
  {
   "cell_type": "code",
   "execution_count": 18,
   "metadata": {},
   "outputs": [],
   "source": [
    "svm_pBIC = SVC(gamma = values[0])\n",
    "svm_pBIC10 = SVC(gamma = values[1])\n",
    "\n",
    "svm_pBIC.fit(gsva_mouse, is_pBIC)\n",
    "svm_pBIC10.fit(gsva_mouse, is_pBIC10)\n",
    "\n",
    "pred_pBIC = svm_pBIC.predict(gsva_human)\n",
    "pred_pBIC10 = svm_pBIC10.predict(gsva_human)\n",
    "\n",
    "coincide = [x == 1 & y == 1 for x,y in zip(pred_pBIC, pred_pBIC10)]\n",
    "pred_pBIC10 = [x + 1 if x == 1 else x for x in pred_pBIC10]\n",
    "prediction = [x + y if not bool_ else 0 for x,y,bool_ in zip(pred_pBIC, pred_pBIC10, coincide)]"
   ]
  },
  {
   "cell_type": "code",
   "execution_count": 22,
   "metadata": {},
   "outputs": [
    {
     "data": {
      "text/plain": [
       "46"
      ]
     },
     "execution_count": 22,
     "metadata": {},
     "output_type": "execute_result"
    }
   ],
   "source": [
    "sum(pred_pBIC10)//2"
   ]
  },
  {
   "cell_type": "markdown",
   "metadata": {},
   "source": [
    "## Save data with classification"
   ]
  },
  {
   "cell_type": "code",
   "execution_count": 14,
   "metadata": {},
   "outputs": [],
   "source": [
    "names_patients = list(human_RNAseq.index)"
   ]
  },
  {
   "cell_type": "code",
   "execution_count": 15,
   "metadata": {},
   "outputs": [],
   "source": [
    "patient_data = pd.read_csv(\"./Data/Schmitz.csv\", sep=\";\")"
   ]
  },
  {
   "cell_type": "code",
   "execution_count": 16,
   "metadata": {},
   "outputs": [],
   "source": [
    "patient_data = patient_data.loc[patient_data[\"dbGaP subject ID\"].isin(names_patients)]"
   ]
  },
  {
   "cell_type": "code",
   "execution_count": 17,
   "metadata": {},
   "outputs": [],
   "source": [
    "patient_data[\"prov\"] = pd.Categorical(\n",
    "    patient_data[\"dbGaP subject ID\"],\n",
    "    categories=names_patients,\n",
    "    ordered=True\n",
    ")\n",
    "\n",
    "patient_data = patient_data.sort_values(\"prov\")"
   ]
  },
  {
   "cell_type": "code",
   "execution_count": 18,
   "metadata": {},
   "outputs": [],
   "source": [
    "del patient_data[\"prov\"]"
   ]
  },
  {
   "cell_type": "code",
   "execution_count": 19,
   "metadata": {},
   "outputs": [],
   "source": [
    "patient_data[\"category\"] = prediction"
   ]
  },
  {
   "cell_type": "code",
   "execution_count": 20,
   "metadata": {},
   "outputs": [
    {
     "data": {
      "text/html": [
       "<div>\n",
       "<style scoped>\n",
       "    .dataframe tbody tr th:only-of-type {\n",
       "        vertical-align: middle;\n",
       "    }\n",
       "\n",
       "    .dataframe tbody tr th {\n",
       "        vertical-align: top;\n",
       "    }\n",
       "\n",
       "    .dataframe thead th {\n",
       "        text-align: right;\n",
       "    }\n",
       "</style>\n",
       "<table border=\"1\" class=\"dataframe\">\n",
       "  <thead>\n",
       "    <tr style=\"text-align: right;\">\n",
       "      <th></th>\n",
       "      <th>dbGaP subject ID</th>\n",
       "      <th>dbGaP accession</th>\n",
       "      <th>Diagnosis</th>\n",
       "      <th>Gene Expression Subgroup</th>\n",
       "      <th>Genetic Subtype</th>\n",
       "      <th>Biopsy Type</th>\n",
       "      <th>Treatment__</th>\n",
       "      <th>Gender</th>\n",
       "      <th>Age</th>\n",
       "      <th>Ann Arbor Stage</th>\n",
       "      <th>...</th>\n",
       "      <th>ECOG Performance Status</th>\n",
       "      <th>Number of Extranodal Sites</th>\n",
       "      <th>IPI Group</th>\n",
       "      <th>IPI Range</th>\n",
       "      <th>Status at Follow_up_ 0 Alive_ 1 Dead</th>\n",
       "      <th>Follow_up Time _yrs</th>\n",
       "      <th>Progression_Free Survival _PFS_ Status_ 0 No Progressoin_ 1 Progression</th>\n",
       "      <th>Progression_Free Survival _PFS_ Time _yrs</th>\n",
       "      <th>Included in Survival Analysis</th>\n",
       "      <th>category</th>\n",
       "    </tr>\n",
       "  </thead>\n",
       "  <tbody>\n",
       "    <tr>\n",
       "      <th>300</th>\n",
       "      <td>DLBCL10502</td>\n",
       "      <td>phs001444</td>\n",
       "      <td>Diffuse large B cell lymphoma</td>\n",
       "      <td>GCB</td>\n",
       "      <td>Other</td>\n",
       "      <td>Pre-treatment</td>\n",
       "      <td>Immunochemotherapy</td>\n",
       "      <td>M</td>\n",
       "      <td>46.0</td>\n",
       "      <td>2</td>\n",
       "      <td>...</td>\n",
       "      <td>0</td>\n",
       "      <td>0</td>\n",
       "      <td>Low</td>\n",
       "      <td>0</td>\n",
       "      <td>0</td>\n",
       "      <td>1,70568104</td>\n",
       "      <td>0</td>\n",
       "      <td>1,70568104</td>\n",
       "      <td>Yes</td>\n",
       "      <td>0</td>\n",
       "    </tr>\n",
       "    <tr>\n",
       "      <th>318</th>\n",
       "      <td>DLBCL10521</td>\n",
       "      <td>phs001444</td>\n",
       "      <td>Diffuse large B cell lymphoma</td>\n",
       "      <td>ABC</td>\n",
       "      <td>Other</td>\n",
       "      <td>Pre-treatment</td>\n",
       "      <td>Immunochemotherapy</td>\n",
       "      <td>F</td>\n",
       "      <td>62.0</td>\n",
       "      <td>4</td>\n",
       "      <td>...</td>\n",
       "      <td>2</td>\n",
       "      <td>1</td>\n",
       "      <td>Intermediate</td>\n",
       "      <td>3</td>\n",
       "      <td>0</td>\n",
       "      <td>3,359342916</td>\n",
       "      <td>0</td>\n",
       "      <td>3,359342916</td>\n",
       "      <td>Yes</td>\n",
       "      <td>0</td>\n",
       "    </tr>\n",
       "    <tr>\n",
       "      <th>144</th>\n",
       "      <td>DLBCL11255</td>\n",
       "      <td>phs001444</td>\n",
       "      <td>Diffuse large B cell lymphoma</td>\n",
       "      <td>ABC</td>\n",
       "      <td>Other</td>\n",
       "      <td>Relapse</td>\n",
       "      <td>Ibrutinib monotherapy</td>\n",
       "      <td>M</td>\n",
       "      <td>64.0</td>\n",
       "      <td>NaN</td>\n",
       "      <td>...</td>\n",
       "      <td>NaN</td>\n",
       "      <td>NaN</td>\n",
       "      <td>NaN</td>\n",
       "      <td>15</td>\n",
       "      <td>0</td>\n",
       "      <td>0</td>\n",
       "      <td>0</td>\n",
       "      <td>0</td>\n",
       "      <td>No</td>\n",
       "      <td>0</td>\n",
       "    </tr>\n",
       "    <tr>\n",
       "      <th>145</th>\n",
       "      <td>DLBCL11256</td>\n",
       "      <td>phs001444</td>\n",
       "      <td>Diffuse large B cell lymphoma</td>\n",
       "      <td>ABC</td>\n",
       "      <td>Other</td>\n",
       "      <td>Relapse</td>\n",
       "      <td>Ibrutinib monotherapy</td>\n",
       "      <td>F</td>\n",
       "      <td>58.0</td>\n",
       "      <td>NaN</td>\n",
       "      <td>...</td>\n",
       "      <td>NaN</td>\n",
       "      <td>NaN</td>\n",
       "      <td>NaN</td>\n",
       "      <td>4</td>\n",
       "      <td>0</td>\n",
       "      <td>0</td>\n",
       "      <td>0</td>\n",
       "      <td>0</td>\n",
       "      <td>No</td>\n",
       "      <td>0</td>\n",
       "    </tr>\n",
       "    <tr>\n",
       "      <th>146</th>\n",
       "      <td>DLBCL11257</td>\n",
       "      <td>phs001444</td>\n",
       "      <td>Diffuse large B cell lymphoma</td>\n",
       "      <td>Unclass</td>\n",
       "      <td>Other</td>\n",
       "      <td>Relapse</td>\n",
       "      <td>Ibrutinib monotherapy</td>\n",
       "      <td>M</td>\n",
       "      <td>55.0</td>\n",
       "      <td>NaN</td>\n",
       "      <td>...</td>\n",
       "      <td>NaN</td>\n",
       "      <td>NaN</td>\n",
       "      <td>NaN</td>\n",
       "      <td>4</td>\n",
       "      <td>0</td>\n",
       "      <td>0</td>\n",
       "      <td>0</td>\n",
       "      <td>0</td>\n",
       "      <td>No</td>\n",
       "      <td>0</td>\n",
       "    </tr>\n",
       "  </tbody>\n",
       "</table>\n",
       "<p>5 rows × 21 columns</p>\n",
       "</div>"
      ],
      "text/plain": [
       "    dbGaP subject ID dbGaP accession                      Diagnosis  \\\n",
       "300       DLBCL10502       phs001444  Diffuse large B cell lymphoma   \n",
       "318       DLBCL10521       phs001444  Diffuse large B cell lymphoma   \n",
       "144       DLBCL11255       phs001444  Diffuse large B cell lymphoma   \n",
       "145       DLBCL11256       phs001444  Diffuse large B cell lymphoma   \n",
       "146       DLBCL11257       phs001444  Diffuse large B cell lymphoma   \n",
       "\n",
       "    Gene Expression Subgroup Genetic Subtype    Biopsy Type  \\\n",
       "300                      GCB           Other  Pre-treatment   \n",
       "318                      ABC           Other  Pre-treatment   \n",
       "144                      ABC           Other        Relapse   \n",
       "145                      ABC           Other        Relapse   \n",
       "146                  Unclass           Other        Relapse   \n",
       "\n",
       "               Treatment__ Gender   Age Ann Arbor Stage  ...  \\\n",
       "300     Immunochemotherapy      M  46.0               2  ...   \n",
       "318     Immunochemotherapy      F  62.0               4  ...   \n",
       "144  Ibrutinib monotherapy      M  64.0             NaN  ...   \n",
       "145  Ibrutinib monotherapy      F  58.0             NaN  ...   \n",
       "146  Ibrutinib monotherapy      M  55.0             NaN  ...   \n",
       "\n",
       "    ECOG Performance Status Number of Extranodal Sites     IPI Group  \\\n",
       "300                       0                          0           Low   \n",
       "318                       2                          1  Intermediate   \n",
       "144                     NaN                        NaN           NaN   \n",
       "145                     NaN                        NaN           NaN   \n",
       "146                     NaN                        NaN           NaN   \n",
       "\n",
       "    IPI Range  Status at Follow_up_ 0 Alive_ 1 Dead  Follow_up Time _yrs  \\\n",
       "300         0                                     0           1,70568104   \n",
       "318         3                                     0          3,359342916   \n",
       "144        15                                     0                    0   \n",
       "145         4                                     0                    0   \n",
       "146         4                                     0                    0   \n",
       "\n",
       "    Progression_Free Survival _PFS_ Status_ 0 No Progressoin_ 1 Progression  \\\n",
       "300                                                  0                        \n",
       "318                                                  0                        \n",
       "144                                                  0                        \n",
       "145                                                  0                        \n",
       "146                                                  0                        \n",
       "\n",
       "     Progression_Free Survival _PFS_ Time _yrs Included in Survival Analysis  \\\n",
       "300                                 1,70568104                           Yes   \n",
       "318                                3,359342916                           Yes   \n",
       "144                                          0                            No   \n",
       "145                                          0                            No   \n",
       "146                                          0                            No   \n",
       "\n",
       "    category  \n",
       "300        0  \n",
       "318        0  \n",
       "144        0  \n",
       "145        0  \n",
       "146        0  \n",
       "\n",
       "[5 rows x 21 columns]"
      ]
     },
     "execution_count": 20,
     "metadata": {},
     "output_type": "execute_result"
    }
   ],
   "source": [
    "patient_data.head()"
   ]
  },
  {
   "cell_type": "code",
   "execution_count": 23,
   "metadata": {},
   "outputs": [],
   "source": [
    "patient_data.to_csv(\"./results/Schmitz_w_results.csv\", index = False)"
   ]
  }
 ],
 "metadata": {
  "kernelspec": {
   "display_name": "Python 3.8.10 ('tfm_env')",
   "language": "python",
   "name": "python3"
  },
  "language_info": {
   "codemirror_mode": {
    "name": "ipython",
    "version": 3
   },
   "file_extension": ".py",
   "mimetype": "text/x-python",
   "name": "python",
   "nbconvert_exporter": "python",
   "pygments_lexer": "ipython3",
   "version": "3.8.10"
  },
  "orig_nbformat": 4,
  "vscode": {
   "interpreter": {
    "hash": "76b9ef2119ccb6de7256d3e4ba64d687e97bea3c6d6f8be58f14068c4f779a86"
   }
  }
 },
 "nbformat": 4,
 "nbformat_minor": 2
}
